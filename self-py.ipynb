{
 "metadata": {
  "language_info": {
   "codemirror_mode": {
    "name": "ipython",
    "version": 3
   },
   "file_extension": ".py",
   "mimetype": "text/x-python",
   "name": "python",
   "nbconvert_exporter": "python",
   "pygments_lexer": "ipython3",
   "version": 3
  },
  "orig_nbformat": 2,
  "kernelspec": {
   "name": "python_defaultSpec_1595778130192",
   "display_name": "Python 3.8.5 64-bit ('venv': venv)"
  }
 },
 "nbformat": 4,
 "nbformat_minor": 2,
 "cells": [
  {
   "cell_type": "code",
   "execution_count": null,
   "metadata": {
    "tags": []
   },
   "outputs": [],
   "source": [
    "def price(my_tuple) :\n",
    "    return float(my_tuple[1])\n",
    "def sort_prices(list_of_tuples):\n",
    "    return list(reversed(sorted(list_of_tuples,key = price)))\n",
    "\n",
    "products = [('milk', '5.5'), ('candy', '2.5'), ('bread', '9.0')]\n",
    "print(sort_prices(products))"
   ]
  },
  {
   "cell_type": "code",
   "execution_count": null,
   "metadata": {
    "tags": []
   },
   "outputs": [],
   "source": [
    "data = ('self','py',1.543)\n",
    "format_string = 'hello %s.%s learner, you have only %.1f units left before you master the course! '\n",
    "print(format_string%data)"
   ]
  },
  {
   "cell_type": "code",
   "execution_count": null,
   "metadata": {
    "tags": []
   },
   "outputs": [],
   "source": [
    "def mult_tuple(tuple1, tuple2):\n",
    "    lst = []\n",
    "    for x in tuple1 :\n",
    "        for y in tuple2 :\n",
    "            lst = lst + [(x,y), (y,x)]\n",
    "    print(tuple(lst))\n",
    "\n",
    "first_tuple = (1, 2)\n",
    "second_tuple = (4, 5)\n",
    "mult_tuple(first_tuple, second_tuple)\n",
    "\n",
    "first_tuple = (1, 2, 3)\n",
    "second_tuple = (4, 5, 6)\n",
    "mult_tuple(first_tuple, second_tuple)"
   ]
  },
  {
   "cell_type": "code",
   "execution_count": null,
   "metadata": {
    "tags": []
   },
   "outputs": [],
   "source": [
    "def sort_anagrams(list_of_strings):\n",
    "    in_anagrams = []\n",
    "    for string in list_of_strings :\n",
    "        anagrams = []\n",
    "        for string1 in list_of_strings :\n",
    "            if sorted(string) == sorted(string1) :\n",
    "                anagrams.append(string1)\n",
    "        if anagrams not in in_anagrams :\n",
    "            in_anagrams.append(anagrams)\n",
    "    return in_anagrams\n",
    "list_of_words = ['deltas', 'retainers', 'desalt', 'pants', 'slated', 'generating', 'ternaries', 'smelters', 'termless', 'salted', 'staled', 'greatening', 'lasted', 'resmelts']\n",
    "list_of_word = ['apple','aplpe','dog']\n",
    "sort_anagrams(list_of_words)\n",
    "            "
   ]
  },
  {
   "cell_type": "code",
   "execution_count": null,
   "metadata": {
    "tags": []
   },
   "outputs": [],
   "source": [
    "my_dict = {'first_name': 'Mariah','last_name': 'Carey','birth_date': '27.03.1970','hobbies': ['Sing', 'Compose', 'Act']}\n",
    "number = int(input('please enter a number between 1-7 :'))\n",
    "if number == 1 :\n",
    "    print(my_dict['first_name'])\n",
    "if number == 2 :\n",
    "    print(my_dict['birth_date'][3:5])\n",
    "if number == 3 :\n",
    "    print(len(my_dict ['hobbies']))\n",
    "if number == 4 :\n",
    "    print(my_dict['hobbies'][2])\n",
    "if number == 5 :\n",
    "    my_dict['hobbies']  = my_dict['hobbies'] + ['cooking']\n",
    "    print(my_dict)\n",
    "if number == 6 :\n",
    "    my_dict['birth_date'] = tuple(my_dict['birth_date'].split('.'))\n",
    "    print(my_dict['birth_date'])\n",
    "else :\n",
    "    my_dict['age'] = 2020 - int(my_dict['birth_date'][6:10])\n",
    "    print(my_dict['age'])"
   ]
  },
  {
   "cell_type": "code",
   "execution_count": null,
   "metadata": {},
   "outputs": [],
   "source": [
    "def count_chars(my_str):\n",
    "    new_dict = {}\n",
    "    for char in my_str :\n",
    "        if char not in ' ':\n",
    "            countt = my_str.count(char)\n",
    "            new_dict[char] =  countt \n",
    "    return new_dict\n",
    "magic_str = \" netta david    \"\n",
    "count_chars(magic_str)\n",
    "#{'a': 5, 'b': 2, 'r': 2, 'c': 1, 'd': 1}\n",
    " "
   ]
  },
  {
   "cell_type": "code",
   "execution_count": null,
   "metadata": {
    "tags": []
   },
   "outputs": [],
   "source": [
    "def inverse_dict(my_dict):\n",
    "    new_dict = {}\n",
    "    for new_value, new_key in my_dict.items() :\n",
    "        if new_key not in new_dict:\n",
    "            new_dict[new_key] = []\n",
    "        new_dict[new_key].append(new_value) \n",
    "    return new_dict\n",
    "course_dict = {'I': 3, 'love': 3, 'self.py!': 2}\n",
    "inverse_dict(course_dict)\n"
   ]
  },
  {
   "cell_type": "code",
   "execution_count": 196,
   "metadata": {},
   "outputs": [
    {
     "output_type": "execute_result",
     "data": {
      "text/plain": "False"
     },
     "metadata": {},
     "execution_count": 196
    }
   ],
   "source": [
    "def are_files_equal(file1, file2):\n",
    "    with open(file1, 'r') as  file_1, open(file2, 'r') as file_2:\n",
    "        if file_1.read() == file_2.read() :\n",
    "            return True\n",
    "        else :\n",
    "            return False  \n",
    "\n",
    "are_files_equal('C:\\\\Users\\\\Family\\\\Documents\\\\sampleFile.txt', \"C:\\\\Users\\\\Family\\\\Python\\\\sampleFile1.txt\")\n"
   ]
  },
  {
   "cell_type": "code",
   "execution_count": 266,
   "metadata": {
    "tags": []
   },
   "outputs": [
    {
     "output_type": "stream",
     "name": "stdout",
     "text": "i believe i can fly i believe i can touch the sky\ni think about it every night and day spread my wings and fly away\n"
    }
   ],
   "source": [
    "def s_r_l (string,function):\n",
    "    #string = input(str('please enter your string :'))\n",
    "    #function = input(str('please enter one of those functions : sort / rev / last'))\n",
    "    with open(string, 'r') as f:\n",
    "        if function == 'sort' :\n",
    "            file_read = f.read()\n",
    "            sorted_list = sorted(file_read.split())\n",
    "            for word in sorted_list.copy() :\n",
    "                if sorted_list.count(word) > 1 :\n",
    "                    sorted_list.remove(word)\n",
    "            print(sorted_list)\n",
    "        if function == 'rev' :\n",
    "            for line in f :\n",
    "                print(\"\".join(list(reversed(line))))\n",
    "\n",
    "        if function == 'last' :\n",
    "            number = int(input('please enter a number :'))\n",
    "            print(''.join(f.readlines()[-number:]))\n",
    "            f.seek(0)\n",
    "            #print(f.readlines()[-number:])\n",
    "\n",
    "         #  \\ print(*lst[-number:],sep='')\n",
    "        #print(1,2,3,sep='----')\n",
    "s_r_l('c:\\\\Users\\\\Family\\\\Documents\\\\sampleFile.txt','last')\n",
    "\n",
    "    "
   ]
  },
  {
   "cell_type": "code",
   "execution_count": 245,
   "metadata": {
    "tags": []
   },
   "outputs": [
    {
     "output_type": "stream",
     "name": "stdout",
     "text": "1\n2\n3\n4\n"
    }
   ],
   "source": [
    "def func(*lst):\n",
    "    for x in lst:\n",
    "        print(x)\n",
    "\n",
    "func(*[1,2,3,4])"
   ]
  },
  {
   "cell_type": "code",
   "execution_count": 248,
   "metadata": {
    "tags": []
   },
   "outputs": [
    {
     "output_type": "stream",
     "name": "stdout",
     "text": "1 2 3\n4\n5\n6\n7\n"
    }
   ],
   "source": [
    "def func2(a,b,c,*args):\n",
    "    print(a,b,c)\n",
    "    for x in args:\n",
    "        print(x)\n",
    "\n",
    "func2(1,2,3,4,5,6,7)"
   ]
  },
  {
   "cell_type": "code",
   "execution_count": 273,
   "metadata": {
    "tags": []
   },
   "outputs": [
    {
     "output_type": "stream",
     "name": "stdout",
     "text": "115\n"
    },
    {
     "output_type": "execute_result",
     "data": {
      "text/plain": "115"
     },
     "metadata": {},
     "execution_count": 273
    }
   ],
   "source": [
    "def copy_file_content(source, destination):\n",
    "    with open(source,'r') as copy_file, open(destination,'w') as paste_file  :\n",
    "        string = copy_file.read()\n",
    "        return paste_file.write(string)\n",
    "copy_file_content('C:\\\\Users\\\\Family\\\\Documents\\\\sampleFile.txt', \"C:\\\\Users\\\\Family\\\\Python\\\\sampleFile1.txt\")"
   ]
  },
  {
   "cell_type": "code",
   "execution_count": 294,
   "metadata": {
    "tags": []
   },
   "outputs": [
    {
     "output_type": "execute_result",
     "data": {
      "text/plain": "5"
     },
     "metadata": {},
     "execution_count": 294
    }
   ],
   "source": [
    "def who_is_missing(file_name):\n",
    "        with open(file_name,'r') as f ,open('found.txt','w') as fd :\n",
    "            f = f.read()\n",
    "            for number in range(1,len(f)+1) :\n",
    "                if str(number) not in f :\n",
    "                    fd.write(str(number))\n",
    "                    return int(number)\n",
    "who_is_missing(r\"C:\\Users\\Family\\Python\\findme.txt\")"
   ]
  },
  {
   "cell_type": "code",
   "execution_count": 405,
   "metadata": {
    "tags": []
   },
   "outputs": [
    {
     "output_type": "stream",
     "name": "stdout",
     "text": "('Tudo Bom', 5, 'The Black Eyed Peas')\n"
    }
   ],
   "source": [
    "def my_mp3_playlist(file_path):\n",
    "    with open(file_path,'r') as f :\n",
    "        songs = []\n",
    "        for line in f.readlines():\n",
    "            songs.append(line.split(';')[:-1])\n",
    "        longest_song = max(songs, key=lambda x: x[2])[0]\n",
    "\n",
    "        songs_length = len(songs)\n",
    "\n",
    "        artists = {}\n",
    "        for song in songs:\n",
    "            artist = song[1]\n",
    "            if artist not in artists:\n",
    "                artists[artist] = 0\n",
    "            artists[artist] += 1   \n",
    "        #print(max(artists,key=lambda artist:artists[artist]))\n",
    "        name = max(artists.items(),key=lambda x:x[1])[0]\n",
    "        t = longest_song, songs_length , name\n",
    "        print(t)\n",
    "\n",
    "my_mp3_playlist(r\"C:\\Users\\Family\\Python\\songs.txt\")"
   ]
  },
  {
   "cell_type": "code",
   "execution_count": 420,
   "metadata": {
    "tags": []
   },
   "outputs": [
    {
     "output_type": "stream",
     "name": "stdout",
     "text": "Tudo Bom;Static and Ben El Tavori;5:13;\nI Gotta Feeling;The Black Eyed Peas;4:05;\nPython Love Story;Unknown;4:15;\nParadise;Coldplay;4:23;\nWhere is the love?;The Black Eyed Peas;4:13;\n\n"
    }
   ],
   "source": [
    "def my_mp4_playlist(file_path, new_song):\n",
    "    with open(file_path,'r') as f :\n",
    "        songs = []\n",
    "        for line in f :\n",
    "           songs.append(line.split(';')[:-1])\n",
    "        songs[2][0] = new_song\n",
    "\n",
    "        for idx,song in enumerate(songs):\n",
    "            songs[idx]=\";\".join(song+[\"\\n\"])\n",
    "        songs = \"\".join(songs)\n",
    "        print(songs)\n",
    "\n",
    "\n",
    "\n",
    "\n",
    "my_mp4_playlist(r\"C:\\Users\\Family\\Python\\songs.txt\", \"Python Love Story\")"
   ]
  },
  {
   "cell_type": "code",
   "execution_count": null,
   "metadata": {},
   "outputs": [],
   "source": []
  }
 ]
}